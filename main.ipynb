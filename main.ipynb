{
 "cells": [
  {
   "cell_type": "code",
   "execution_count": null,
   "metadata": {},
   "outputs": [],
   "source": [
    "import numpy as np\n",
    "import gymnasium as gym\n",
    "from gymnasium import spaces\n",
    "\n",
    "class StockMarketEnv(gym.Env):\n",
    "    def __init__(self, max_inventory=20):\n",
    "        self.action_space = [0, 1, 2] # 0: 구매, 1: 판매, 2: 유지\n",
    "        self.max_inventory=max_inventory # 최대 보유개수\n",
    "        # self.observation_space = []\n",
    "        \n",
    "    def reset(self):\n",
    "        self.current_price=1000 # 현재가\n",
    "        self.purchase=10000 # 소지금\n",
    "        self.before_purchase=1000\n",
    "        self.purchased_prices=[0 for i in range(self.max_inventory)] # 구매한 코인들\n",
    "        self.state=[self.current_price, self.purchase, self.purchased_prices] # [현재가, 소지금, 보유코인]\n",
    "        return self.state, {}\n",
    "    \n",
    "    def step(self, action):\n",
    "        self.current_price+=np.random.choice([-1,0,1])\n",
    "\n",
    "        if action == 0: # 구매\n",
    "            if self.purchase-self.current_price>=0: # 소지금이 현재가보다 많으면\n",
    "                self.purchased_prices-=self.current_price # 소지금 -= 현재가 \n",
    "                self.purchased_prices.append(self.current_price) # 보유코인에 현재가격 추가, 나중에 여기서 제일 비싼거로 팖\n",
    "            "
   ]
  }
 ],
 "metadata": {
  "kernelspec": {
   "display_name": "Python 3",
   "language": "python",
   "name": "python3"
  },
  "language_info": {
   "codemirror_mode": {
    "name": "ipython",
    "version": 3
   },
   "file_extension": ".py",
   "mimetype": "text/x-python",
   "name": "python",
   "nbconvert_exporter": "python",
   "pygments_lexer": "ipython3",
   "version": "3.12.1"
  }
 },
 "nbformat": 4,
 "nbformat_minor": 2
}
